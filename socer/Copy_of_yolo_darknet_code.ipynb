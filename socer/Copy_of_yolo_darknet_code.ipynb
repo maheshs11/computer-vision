{
  "nbformat": 4,
  "nbformat_minor": 0,
  "metadata": {
    "colab": {
      "name": "Copy of yolo_darknet_code.ipynb",
      "provenance": [],
      "collapsed_sections": [
        "5OTaWcNUphFK",
        "5Jyr-MuDCsnP",
        "gltQjCx5CxBV",
        "AcrNCk3aDw2N",
        "7APq9dFqCyw-"
      ],
      "toc_visible": true,
      "machine_shape": "hm"
    },
    "kernelspec": {
      "name": "python3",
      "display_name": "Python 3"
    },
    "accelerator": "GPU"
  },
  "cells": [
    {
      "cell_type": "markdown",
      "metadata": {
        "id": "5OTaWcNUphFK"
      },
      "source": [
        "# **Vision and Perception**\n",
        "```\n",
        "Name: Anas \n",
        "Last Name: Mounsif\n",
        "Mat: 59465\n",
        "``` "
      ]
    },
    {
      "cell_type": "markdown",
      "metadata": {
        "id": "6_SQqZH8vqXI"
      },
      "source": [
        "**DARKNET**"
      ]
    },
    {
      "cell_type": "markdown",
      "metadata": {
        "id": "5Jyr-MuDCsnP"
      },
      "source": [
        "## **CONFIGURATION**"
      ]
    },
    {
      "cell_type": "markdown",
      "metadata": {
        "id": "3x7aCfah6Znn"
      },
      "source": [
        "**In this section we will proceed to configure our Darknet network,**"
      ]
    },
    {
      "cell_type": "markdown",
      "metadata": {
        "id": "Qa0sfRHU7wAv"
      },
      "source": [
        "If you don't have colab pro, you can crash the session and get 5 gb of additional RAM! (once activated the session will keep the changes)\n",
        "\n"
      ]
    },
    {
      "cell_type": "code",
      "metadata": {
        "id": "59KEI5WI6tkP"
      },
      "source": [
        "Simulate_High_RAM_Session = False #@param { type:\"boolean\" }\n",
        "\n",
        "if simulate_high_RAM_session:\n",
        "  print(\"Crashing Session, please wait...\")\n",
        "  a = []\n",
        "  while(1):\n",
        "    a.append(\"1\")"
      ],
      "execution_count": null,
      "outputs": []
    },
    {
      "cell_type": "markdown",
      "metadata": {
        "id": "OATe2vEP6uwW"
      },
      "source": [
        "**All the configuration files are contained in the drive, so we will proceed to mount Google Drive on the Colab session,**\n",
        "\n",
        "> **ADVICE**: *copy the root [**folder**](https://drive.google.com/drive/folders/1ym8CXvJAONLNPlYE-Je6qv-aSyB5kWnU?usp=sharing) to your drive, and for a correct execution of the code, leave the parameters as they are.*\n",
        "\n",
        "\n",
        "\n",
        "\n",
        "\n",
        "\n"
      ]
    },
    {
      "cell_type": "markdown",
      "metadata": {
        "id": "GO4BZNrQwMF2"
      },
      "source": [
        "Mounting DRIVE... specifies the root folder.\n",
        "\n",
        "\n",
        "\n",
        "\n"
      ]
    },
    {
      "cell_type": "code",
      "metadata": {
        "id": "N_ZOWTogZwHJ",
        "cellView": "form"
      },
      "source": [
        "from google.colab import drive\n",
        "\n",
        "print(\"mounting DRIVE...\")\n",
        "drive.mount('/content/gdrive')\n",
        "root_folder = 'VisionePercezione_Progetto_AnasMounsif_mat:59465' #@param {type:\"string\"}\n",
        "!ln -s /content/gdrive/My\\ Drive/$root_folder /my_drive"
      ],
      "execution_count": null,
      "outputs": []
    },
    {
      "cell_type": "markdown",
      "metadata": {
        "id": "otQfnLVr8BZG"
      },
      "source": [
        "**Now we will proceed to clone the [repository](https://github.com/AlexeyAB/darknet), we're going to set some configuration parameters such as:**\n",
        "\n",
        "*   **OPENCV** *To compile with opencv,*\n",
        "*   **GPU** *To speedup on GPU,*\n",
        "*   **CUDNN** *To speedup on GPU,*\n",
        "*   **CUDNN_HALF** *To further speedup 3 x times,*\n",
        "*   **LIBSO**  *To use Darknet ad dll.* (*WORK IN PROGRESS...*)\n",
        "\n",
        "**The next step is to compile.**"
      ]
    },
    {
      "cell_type": "markdown",
      "metadata": {
        "id": "BuW5f8a8-che"
      },
      "source": [
        "Proceed with the compilation by selecting the desired configuration parameters."
      ]
    },
    {
      "cell_type": "code",
      "metadata": {
        "id": "gUzgi2eDGXmA",
        "cellView": "form"
      },
      "source": [
        "!git clone https://github.com/AlexeyAB/darknet\n",
        "%cd darknet\n",
        "\n",
        "OPENCV = True #@param {type:\"boolean\"}\n",
        "GPU = True #@param {type:\"boolean\"}\n",
        "CUDNN = True #@param {type:\"boolean\"}\n",
        "CUDNN_HALF = True #@param {type:\"boolean\"}\n",
        "LIBSO = False #@param {type:\"boolean\"}\n",
        "\n",
        "print(\"setting properties...\")\n",
        "if OPENCV:\n",
        "  print(\"activating OPENCV...\")\n",
        "  !sed -i 's/OPENCV=0/OPENCV=1/' Makefile\n",
        "\n",
        "if GPU:\n",
        "  print(\"engines CUDA...\")\n",
        "  !/usr/local/cuda/bin/nvcc --version\n",
        "  \n",
        "  print(\"activating GPU...\")\n",
        "  !sed -i 's/GPU=0/GPU=1/' Makefile\n",
        "\n",
        "if CUDNN:\n",
        "  print(\"activating CUDNN...\")\n",
        "  !sed -i 's/CUDNN=0/CUDNN=1/' Makefile\n",
        "\n",
        "if CUDNN_HALF:\n",
        "  print(\"activating CUDNN_HALF...\")\n",
        "  !sed -i 's/CUDNN_HALF=0/CUDNN_HALF=1/' Makefile\n",
        "\n",
        "if LIBSO: #under processing\n",
        "  print(\"activating LIBSO...\")\n",
        "  !sed -i 's/LIBSO=0/LIBSO=1/' Makefile\n",
        "\n",
        "print(\"making...\")\n",
        "!make\n",
        "\n",
        "print(\"FINISH!\")"
      ],
      "execution_count": null,
      "outputs": []
    },
    {
      "cell_type": "markdown",
      "metadata": {
        "id": "vSQKru3jAR7L"
      },
      "source": [
        "**To proceed we will load the dataset in order to use it for training.**\n",
        "> **ADVICE**: *if it is your intention to use an external dataset using the file system insert in a folder called **obj** all the images with the relative files.txt and then compress the folder.*"
      ]
    },
    {
      "cell_type": "markdown",
      "metadata": {
        "id": "0Mi6pPxVwdiJ"
      },
      "source": [
        "Enter the name of the folder containing the dataset (the dataset by convention must be named \"obj.zip\")\n",
        "\n",
        "\n"
      ]
    },
    {
      "cell_type": "code",
      "metadata": {
        "id": "Tb4D1ygdc0FU",
        "cellView": "form"
      },
      "source": [
        "dataset_folder = 'dataset' #@param {type:\"string\"}\n",
        "\n",
        "print(\"loading dataset...\")\n",
        "!cp /my_drive/$dataset_folder/obj.zip ../\n",
        "\n",
        "print(\"unziping dataset...\")\n",
        "!unzip ../obj.zip -d data"
      ],
      "execution_count": null,
      "outputs": []
    },
    {
      "cell_type": "markdown",
      "metadata": {
        "id": "M6dBPyirBOz1"
      },
      "source": [
        "**It is important to also load the main yolo-obj.cfg configuration file, which will contain information for the construction of the network, such as the size of the images, the number of classes, filters, any augmentation techniques and more,**\n",
        "\n",
        "*- for more specific information*: [**NET CFG Parameters**](https://github.com/AlexeyAB/darknet/wiki/CFG-Parameters-in-the-%5Bnet%5D-section), [**Layers CFG Parameters**](https://github.com/AlexeyAB/darknet/wiki/CFG-Parameters-in-the-different-layers).\n",
        "\n",
        "**The main [changes](https://github.com/AlexeyAB/darknet#how-to-train-to-detect-your-custom-objects) to be made on the .cfg.**\n",
        "\n",
        "> **ADVICE**: *The modification of the parameters must be done according to the objectives that you want to achieve, changing the parameters randomly will result in bad execution if not errors in Runtime.*\n",
        "\n",
        "**Darknet needs 2 more files:**\n",
        "\n",
        "*   **obj.names**, which will contain the name of the classes,\n",
        "\n",
        "    > **ADVICE**: *the names must be in the same order as the **classes.txt** file used in the dataset preparation phase.*\n",
        "    \n",
        "    ```\n",
        "    class 0\n",
        "    class 1\n",
        "    class 2\n",
        "    class 3\n",
        "    ...\n",
        "    ```\n",
        "\n",
        "*   **obj.data**, which contain information about training and the number of classes\n",
        "\n",
        "    ```\n",
        "    classes = number of classes\n",
        "    train = path/to/train.txt\n",
        "    valid = path/to/test.txt\n",
        "    names = path/to/obj.names\n",
        "    backup = path/to/backup_folder\n",
        "    ```\n",
        "    > **ADVICE**: *Darknet copies a backup of your trained weights every 100 iterations. As magic, this file will be synced to your local drive on your computer, as well as the backups darknet do every 1000 iterations, saving it on a separate file.*\n",
        "\n",
        "    \n",
        "\n",
        "\n"
      ]
    },
    {
      "cell_type": "markdown",
      "metadata": {
        "id": "xoTcsIIsxXTW"
      },
      "source": [
        "Enter the name of the folder containing the configuration files, provide:\n",
        "- yolo-obj.cfg\n",
        "- obj.names\n",
        "- obj.data\n",
        "\n"
      ]
    },
    {
      "cell_type": "code",
      "metadata": {
        "id": "Ub2eUC5jNlGd",
        "cellView": "form"
      },
      "source": [
        "configuration_folder = 'configuration_files' #@param {type:\"string\"}\n",
        "\n",
        "print(\"loading yolo-obj.cfg...\")\n",
        "!cp /my_drive/$configuration_folder/yolo-obj.cfg ./cfg\n",
        "\n",
        "print(\"loading obj.names...\")\n",
        "!cp /my_drive/$configuration_folder/obj.names ./data\n",
        "\n",
        "print(\"loading obj.data...\")\n",
        "!cp /my_drive/$configuration_folder/obj.data ./data"
      ],
      "execution_count": null,
      "outputs": []
    },
    {
      "cell_type": "markdown",
      "metadata": {
        "id": "1M863AX2Hwre"
      },
      "source": [
        "**Darknet needs a .txt file for training which must contain the paths for each image, so i wrote a script that does this:**\n",
        "\n",
        "```\n",
        "import os\n",
        "\n",
        "image_files = []\n",
        "\n",
        "os.chdir(os.path.join(\"data\", \"obj\"))\n",
        "for filename in os.listdir(os.getcwd()):\n",
        "    if filename.endswith(\".jpg\"):\n",
        "        image_files.append(\"data/obj/\" + filename)\n",
        "\n",
        "os.chdir(\"..\")\n",
        "with open(\"train.txt\", \"w\") as outfile:\n",
        "    for image in image_files:\n",
        "        outfile.write(image)\n",
        "        outfile.write(\"\\n\")\n",
        "    outfile.close()\n",
        "\n",
        "os.chdir(\"..\")\n",
        "```\n",
        "**The only thing to do now is to load and run it,**\n",
        "\n",
        "\n",
        "\n",
        "\n",
        "\n"
      ]
    },
    {
      "cell_type": "markdown",
      "metadata": {
        "id": "-VQ75FE6yFdO"
      },
      "source": [
        "Enter the name of the folder containing scripts and the name of the script that generates the .txt file.\n"
      ]
    },
    {
      "cell_type": "code",
      "metadata": {
        "id": "hZBy1_triXYi",
        "cellView": "form"
      },
      "source": [
        "script_folder = 'py_scripts' #@param {type:\"string\"}\n",
        "\n",
        "script_file = 'generate_train.py' #@param {type:\"string\"}\n",
        "\n",
        "print(\"loading script...\")\n",
        "!cp /my_drive/$script_folder/$script_file ./\n",
        "print(\"performing script...\")\n",
        "!python $script_file"
      ],
      "execution_count": null,
      "outputs": []
    },
    {
      "cell_type": "markdown",
      "metadata": {
        "id": "aUvK1BaqKmop"
      },
      "source": [
        "**The pre_trained weights are used to speed up training, their use is possible thanks to the transfer learning, consists of using pre-trained layers to construct a different network that migth have similarities in the first layers.**\n",
        "\n",
        "reasons:\n",
        "\n",
        "* You want to analyse something different in a dataset that was used to train another network,\n",
        "* You want to perform classification in a class that was used to train a certain network but was not annotated before,\n",
        "* You want to train a network for a problem similar to the other one and don't have time or computational power to retrain all layers."
      ]
    },
    {
      "cell_type": "markdown",
      "metadata": {
        "id": "gv3e3gLByiXk"
      },
      "source": [
        "Enter the name of the folder containing weights and the name of the pre-trained weights file.\n"
      ]
    },
    {
      "cell_type": "code",
      "metadata": {
        "id": "446r7lTgqoFO",
        "cellView": "form"
      },
      "source": [
        "weights_folder = 'backup' #@param {type:\"string\"}\n",
        "\n",
        "pre_trained_weights_file = 'yolov4.conv.137' #@param {type:\"string\"}\n",
        "\n",
        "print(\"loading pre_trained weights...\")\n",
        "!cp /my_drive/$weights_folder/$pre_trained_weights_file ./"
      ],
      "execution_count": null,
      "outputs": []
    },
    {
      "cell_type": "markdown",
      "metadata": {
        "id": "9QetoiZhNUw2"
      },
      "source": [
        "**After having correctly configured the network we can proceed with the next section.**"
      ]
    },
    {
      "cell_type": "markdown",
      "metadata": {
        "id": "gltQjCx5CxBV"
      },
      "source": [
        "## **TRAINING**\n"
      ]
    },
    {
      "cell_type": "markdown",
      "metadata": {
        "id": "XiKYPtxoOEie"
      },
      "source": [
        "**In this section we will train the network,**"
      ]
    },
    {
      "cell_type": "markdown",
      "metadata": {
        "id": "aE2EvPXhBq-t"
      },
      "source": [
        "Choose whether to show the mAP (mean average precisions) calculation every 100 iterations and whether you want to start or resume the training.\n",
        "\n",
        "\n"
      ]
    },
    {
      "cell_type": "code",
      "metadata": {
        "id": "2YQgT-4N2E03"
      },
      "source": [
        "train_using_mAP = True #@param {type:\"boolean\"}\n",
        "\n",
        "option = 'RESUME TRAINING' #@param [\"START TRAINING FROM BEGINNING\", \"RESUME TRAINING\"]\n",
        "\n",
        "if option == 'START TRAINING FROM BEGINNING':\n",
        "  if train_using_mAP:\n",
        "    !./darknet detector train data/obj.data cfg/yolo-obj.cfg $pre_trained_weights_file -dont_show -map\n",
        "  else:\n",
        "    !./darknet detector train data/obj.data cfg/yolo-obj.cfg $pre_trained_weights_file -dont_show\n",
        "else:\n",
        "  if train_using_mAP:\n",
        "    !./darknet detector train data/obj.data cfg/yolo-obj.cfg /my_drive/$weights_folder/yolo-obj_last.weights -dont_show -map\n",
        "  else:\n",
        "    !./darknet detector train data/obj.data cfg/yolo-obj.cfg /my_drive/$weights_folder/yolo-obj_last.weights -dont_show\n"
      ],
      "execution_count": null,
      "outputs": []
    },
    {
      "cell_type": "markdown",
      "metadata": {
        "id": "QKNAkp9VPTf4"
      },
      "source": [
        "**Every 100 iterations darknet will also save a graph that will explain the progress of the training**"
      ]
    },
    {
      "cell_type": "markdown",
      "metadata": {
        "id": "GySlX865A6Z4"
      },
      "source": [
        "Save the graph in the Drive, set the range of iterations made.\n",
        "\n",
        "\n"
      ]
    },
    {
      "cell_type": "code",
      "metadata": {
        "id": "S3itX34ZQoF4"
      },
      "source": [
        "initial_iteration_number = 100 #@param {type:\"slider\", min:100, max:10000, step:100}\n",
        "final_iteration_number = 100 #@param {type:\"slider\", min:100, max:10000, step:100}\n",
        "\n",
        "chart_name = \"mAP-chart_iter:{}-{}.png\".format(initial_iteration_number, final_iteration_number)\n",
        "\n",
        "print(\"saving chart...\")\n",
        "\n",
        "!cp chart.png /my_drive/charts/$chart_name"
      ],
      "execution_count": null,
      "outputs": []
    },
    {
      "cell_type": "markdown",
      "metadata": {
        "id": "AcrNCk3aDw2N"
      },
      "source": [
        "## **METRICS**"
      ]
    },
    {
      "cell_type": "markdown",
      "metadata": {
        "id": "TwIp-TGDBwRK"
      },
      "source": [
        "Enter the name of the weights on which to calculate the metrics"
      ]
    },
    {
      "cell_type": "code",
      "metadata": {
        "id": "1Mc1QNIltbbR",
        "cellView": "form"
      },
      "source": [
        "weights_name = 'yolo-obj_1000.weights' #@param {type:\"string\"}\n",
        "\n",
        "!cp /my_drive/backup/$weights_name ./\n",
        "\n",
        "!./darknet detector map data/obj.data cfg/yolo-obj.cfg $weights_name"
      ],
      "execution_count": null,
      "outputs": []
    },
    {
      "cell_type": "markdown",
      "metadata": {
        "id": "7APq9dFqCyw-"
      },
      "source": [
        "## **DETECTION**"
      ]
    },
    {
      "cell_type": "markdown",
      "metadata": {
        "id": "jTFJSi9RPrKZ"
      },
      "source": [
        "**In this section we will perform object detection on the videos and save the results in the Drive,**"
      ]
    },
    {
      "cell_type": "code",
      "metadata": {
        "id": "1N8AP5Ok2c0i"
      },
      "source": [
        "video_test_folder = 'test_videos' #@param {type:\"string\"}\n",
        "input_name = 'prova.mp4' #@param {type:\"string\"}\n",
        "weights_type = 'yolo best' #@param [\"yolo best\", \"yolo last\"]\n",
        "predictions_folder = 'predictions' #@param {type:\"string\"}\n",
        "output_name = 'prova.mp4' #@param {type:\"string\"}\n",
        "prediction_version =  1 #@param {type:\"integer\"}\n",
        "\n",
        "prediction_name = \"{}_prediction_version:{}.avi\".format(output_name, prediction_version)\n",
        "\n",
        "if weights_type == \"yolo last\":\n",
        "  yolo_weights = \"yolo-obj_last.weights\"\n",
        "else:\n",
        "  yolo_weights = \"yolo-obj_best.weights\"\n",
        "\n",
        "print(\"detecting...\")\n",
        "!./darknet detector demo data/obj.data cfg/yolo-obj.cfg /my_drive/backup/$yolo_weights -dont_show /my_drive/$video_test_folder/$input_name -i 0 -out_filename prediction.avi\n",
        "\n",
        "print(\"copying prediction in Drive...\")\n",
        "!cp prediction.avi /my_drive/$predictions_folder/$prediction_name\n"
      ],
      "execution_count": null,
      "outputs": []
    }
  ]
}